{
 "cells": [
  {
   "cell_type": "code",
   "execution_count": 1,
   "id": "e679047b",
   "metadata": {},
   "outputs": [
    {
     "name": "stdout",
     "output_type": "stream",
     "text": [
      "Open 9-5 daily\n"
     ]
    }
   ],
   "source": [
    "import zoo\n",
    "zoo.hours()"
   ]
  },
  {
   "cell_type": "code",
   "execution_count": 2,
   "id": "d78be4e9",
   "metadata": {},
   "outputs": [
    {
     "name": "stdout",
     "output_type": "stream",
     "text": [
      "[{'author': 'J R R Tolkien', 'book': 'The Hobbit'}, {'author': 'Lynne Truss', 'book': 'Eats, Shoots & Leaves'}]\n"
     ]
    }
   ],
   "source": [
    "import csv\n",
    "with open(\"books.csv\", 'rt') as fin:\n",
    "    cin = csv.DictReader(fin)\n",
    "    books = [row for row in cin]\n",
    "    \n",
    "print(books)"
   ]
  },
  {
   "cell_type": "code",
   "execution_count": 45,
   "id": "62ad932c",
   "metadata": {},
   "outputs": [],
   "source": [
    "#THIS WORKS\n",
    "import sqlite3 as sql\n",
    "import csv\n",
    "\n",
    "conn = sql.connect('books.db')\n",
    "curs = conn.cursor()\n",
    "curs.execute('''CREATE TABLE IF NOT EXISTS books(title text,author text,year int)''')\n",
    "\n",
    "\n",
    "with open(\"books2.csv\", 'rt') as fin:\n",
    "    cin = csv.DictReader(fin)\n",
    "    books = [row for row in cin]\n",
    "for i in books:\n",
    "    curs.execute(f'INSERT INTO books VALUES(:title,:author,:year);',i)\n"
   ]
  },
  {
   "cell_type": "code",
   "execution_count": 1,
   "id": "93eae732",
   "metadata": {},
   "outputs": [
    {
     "name": "stdout",
     "output_type": "stream",
     "text": [
      "('Perdido Street Station',)\n",
      "('Small Gods',)\n",
      "('The Spellman Files',)\n",
      "('The Weirdstone of Brisingamen',)\n",
      "('Thud!',)\n"
     ]
    }
   ],
   "source": [
    "#THIS ONLY WORKS IF SQLALCHEMY MADE THE DB\n",
    "import csv\n",
    "import sqlalchemy as sa\n",
    "from sqlalchemy import text\n",
    "\n",
    "\n",
    "\n",
    "\n",
    "engine = sa.create_engine('sqlite+pysqlite:///books.db')\n",
    "with engine.connect() as con:\n",
    "    ##THIS IS ONLY BECAUSE SQLALCHEMY WON'T OPEN AN SQLITE DB IT DIDN'T CREATE\n",
    "    con.execute(text('''CREATE TABLE IF NOT EXISTS books(title text,author text,year int)'''))\n",
    "    with open(\"books2.csv\", 'rt') as fin:\n",
    "        cin = csv.DictReader(fin)\n",
    "        books = [row for row in cin]\n",
    "    for i in books:\n",
    "        stmt = f\"INSERT INTO books VALUES('{i.get('title')}','{i.get('author')}',{i.get('year')});\"\n",
    "        con.execute(text(stmt))\n",
    "    ##-------------##    \n",
    "    rows = con.execute(text(\"SELECT title FROM books ORDER by title ASC\"))\n",
    "    for row in rows:\n",
    "        print(row)\n"
   ]
  },
  {
   "cell_type": "code",
   "execution_count": 2,
   "id": "a646499f",
   "metadata": {},
   "outputs": [
    {
     "name": "stdout",
     "output_type": "stream",
     "text": [
      "('Perdido Street Station',)\n",
      "('Small Gods',)\n",
      "('The Spellman Files',)\n",
      "('The Weirdstone of Brisingamen',)\n",
      "('Thud!',)\n"
     ]
    }
   ],
   "source": [
    "#THIS DOESN'T CARE WHO MADE THE DB\n",
    "import sqlite3 as sql\n",
    "import csv\n",
    "\n",
    "conn = sql.connect('books.db')\n",
    "curs = conn.cursor()\n",
    "rows = curs.execute(\"SELECT title FROM books ORDER by title ASC\")\n",
    "for row in rows:\n",
    "    print(row)"
   ]
  },
  {
   "cell_type": "code",
   "execution_count": null,
   "id": "c0903c64",
   "metadata": {},
   "outputs": [],
   "source": []
  }
 ],
 "metadata": {
  "kernelspec": {
   "display_name": "Python 3",
   "language": "python",
   "name": "python3"
  },
  "language_info": {
   "codemirror_mode": {
    "name": "ipython",
    "version": 3
   },
   "file_extension": ".py",
   "mimetype": "text/x-python",
   "name": "python",
   "nbconvert_exporter": "python",
   "pygments_lexer": "ipython3",
   "version": "3.10.9"
  }
 },
 "nbformat": 4,
 "nbformat_minor": 5
}
