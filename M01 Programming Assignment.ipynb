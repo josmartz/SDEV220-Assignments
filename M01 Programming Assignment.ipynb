{
 "cells": [
  {
   "cell_type": "code",
   "execution_count": 1,
   "id": "4a900675",
   "metadata": {},
   "outputs": [
    {
     "data": {
      "text/plain": [
       "3600"
      ]
     },
     "execution_count": 1,
     "metadata": {},
     "output_type": "execute_result"
    }
   ],
   "source": [
    "#3.1\n",
    "60 * 60"
   ]
  },
  {
   "cell_type": "markdown",
   "id": "b72c3a9a",
   "metadata": {},
   "source": [
    "There are 3600 seconds in an hour"
   ]
  },
  {
   "cell_type": "code",
   "execution_count": 2,
   "id": "b9e494ad",
   "metadata": {},
   "outputs": [],
   "source": [
    "#3.2\n",
    "seconds_per_hour = 3600"
   ]
  },
  {
   "cell_type": "code",
   "execution_count": 3,
   "id": "2ca93d17",
   "metadata": {},
   "outputs": [
    {
     "data": {
      "text/plain": [
       "86400"
      ]
     },
     "execution_count": 3,
     "metadata": {},
     "output_type": "execute_result"
    }
   ],
   "source": [
    "#3.3\n",
    "24 * seconds_per_hour"
   ]
  },
  {
   "cell_type": "markdown",
   "id": "a523e15d",
   "metadata": {},
   "source": [
    "There are 86400 seconds in a day"
   ]
  },
  {
   "cell_type": "code",
   "execution_count": 11,
   "id": "129a1f80",
   "metadata": {},
   "outputs": [],
   "source": [
    "#3.4\n",
    "seconds_per_day = seconds_per_hour * 24"
   ]
  },
  {
   "cell_type": "code",
   "execution_count": 6,
   "id": "1ecf8800",
   "metadata": {},
   "outputs": [
    {
     "data": {
      "text/plain": [
       "24.0"
      ]
     },
     "execution_count": 6,
     "metadata": {},
     "output_type": "execute_result"
    }
   ],
   "source": [
    "#3.5\n",
    "seconds_per_day / seconds_per_hour"
   ]
  },
  {
   "cell_type": "code",
   "execution_count": 10,
   "id": "e2513662",
   "metadata": {},
   "outputs": [
    {
     "data": {
      "text/plain": [
       "24"
      ]
     },
     "execution_count": 10,
     "metadata": {},
     "output_type": "execute_result"
    }
   ],
   "source": [
    "#3.6\n",
    "seconds_per_day // seconds_per_hour"
   ]
  },
  {
   "cell_type": "markdown",
   "id": "33b2264d",
   "metadata": {},
   "source": [
    "The numbers were the same."
   ]
  }
 ],
 "metadata": {
  "kernelspec": {
   "display_name": "Python 3",
   "language": "python",
   "name": "python3"
  },
  "language_info": {
   "codemirror_mode": {
    "name": "ipython",
    "version": 3
   },
   "file_extension": ".py",
   "mimetype": "text/x-python",
   "name": "python",
   "nbconvert_exporter": "python",
   "pygments_lexer": "ipython3",
   "version": "3.10.9"
  }
 },
 "nbformat": 4,
 "nbformat_minor": 5
}
