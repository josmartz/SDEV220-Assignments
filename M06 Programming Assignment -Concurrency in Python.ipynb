{
 "cells": [
  {
   "cell_type": "markdown",
   "id": "b20d513e",
   "metadata": {},
   "source": [
    "13.1 Write the current date as a string to the text file today.txt.\n",
    "\n",
    "13.2 Read the text file today.txt into the string today_string.\n",
    "\n",
    "13.3 Parse the date from today_string.\n",
    "\n",
    "15.1 Use multiprocessing to create three separate processes. Make each one wait a random number of seconds between zero and one, print the current time, and then exit."
   ]
  },
  {
   "cell_type": "code",
   "execution_count": 2,
   "id": "37b5e2e5",
   "metadata": {},
   "outputs": [
    {
     "name": "stdout",
     "output_type": "stream",
     "text": [
      "time.struct_time(tm_year=2023, tm_mon=4, tm_mday=30, tm_hour=0, tm_min=0, tm_sec=0, tm_wday=6, tm_yday=120, tm_isdst=-1)\n"
     ]
    }
   ],
   "source": [
    "#13.1\n",
    "from datetime import date\n",
    "import time\n",
    "fout = open('today.txt', 'wt')\n",
    "fout.write(date.today().isoformat())\n",
    "fout.close\n",
    "\n",
    "#13.2\n",
    "fin = open('today.txt', 'rt')\n",
    "today_string = fin.readline()\n",
    "fin.close()\n",
    "\n",
    "#13.3\n",
    "fmt = \"%Y-%m-%d\"\n",
    "today = time.strptime(today_string, fmt)\n",
    "print(today)"
   ]
  },
  {
   "cell_type": "code",
   "execution_count": null,
   "id": "1d6b76f3",
   "metadata": {},
   "outputs": [],
   "source": [
    "#15.1\n",
    "#requires 'pip install multiprocess'\n",
    "#multiprocess is similar to multiprocessing, and works on jupyter notebooks\n",
    "import multiprocess\n",
    "import os\n",
    "\n",
    "def process():\n",
    "    #imports have to be here or it throws an error\n",
    "    import time\n",
    "    import random\n",
    "    time.sleep(random.random())\n",
    "    print(time.ctime(time.time())) #this prints in the jupyter console, not like the normal output\n",
    "    \n",
    "    \n",
    "for n in range(3):\n",
    "    p = multiprocess.Process(target=process)\n",
    "    p.start()\n"
   ]
  }
 ],
 "metadata": {
  "kernelspec": {
   "display_name": "Python 3",
   "language": "python",
   "name": "python3"
  },
  "language_info": {
   "codemirror_mode": {
    "name": "ipython",
    "version": 3
   },
   "file_extension": ".py",
   "mimetype": "text/x-python",
   "name": "python",
   "nbconvert_exporter": "python",
   "pygments_lexer": "ipython3",
   "version": "3.10.9"
  }
 },
 "nbformat": 4,
 "nbformat_minor": 5
}
